{
 "cells": [
  {
   "cell_type": "markdown",
   "id": "697d48b5",
   "metadata": {
    "papermill": {
     "duration": 0.002139,
     "end_time": "2024-12-06T08:37:16.142363",
     "exception": false,
     "start_time": "2024-12-06T08:37:16.140224",
     "status": "completed"
    },
    "tags": []
   },
   "source": [
    "# 2024 Santa Perplexity Puzzle\n",
    "> Submission by Rick Arendsen\n",
    "\n",
    "## Approach\n",
    "The way this approach works is that Gemma 2 determines the perplexity of each sentence. This was the base of the solution I decided to go with.\n",
    "The next step would be to approach a way to optimise the texts over time with some sort of algorithm that trains the text when compared against the **perplexity** metric.\n",
    "\n",
    "## Credits\n",
    "**Original Notebook:** [Korpan.D - 2024 Santa Perplexity Puzzle](https://www.kaggle.com/code/korpan/2024-santa-perplexity-puzzle-explained-approach)"
   ]
  },
  {
   "cell_type": "code",
   "execution_count": 1,
   "id": "6c215df7",
   "metadata": {
    "_cell_guid": "b1076dfc-b9ad-4769-8c92-a6c4dae69d19",
    "_uuid": "8f2839f25d086af736a60e9eeb907d3b93b6e0e5",
    "execution": {
     "iopub.execute_input": "2024-12-06T08:37:16.146850Z",
     "iopub.status.busy": "2024-12-06T08:37:16.146583Z",
     "iopub.status.idle": "2024-12-06T08:37:20.020385Z",
     "shell.execute_reply": "2024-12-06T08:37:20.019637Z"
    },
    "papermill": {
     "duration": 3.878183,
     "end_time": "2024-12-06T08:37:20.022408",
     "exception": false,
     "start_time": "2024-12-06T08:37:16.144225",
     "status": "completed"
    },
    "tags": []
   },
   "outputs": [],
   "source": [
    "# Import Required Libraries\n",
    "\n",
    "import pandas as pd\n",
    "from metric import PerplexityCalculator\n",
    "import numpy as np"
   ]
  },
  {
   "cell_type": "code",
   "execution_count": 2,
   "id": "7bcd14d5",
   "metadata": {
    "execution": {
     "iopub.execute_input": "2024-12-06T08:37:20.028266Z",
     "iopub.status.busy": "2024-12-06T08:37:20.027179Z",
     "iopub.status.idle": "2024-12-06T08:37:20.049400Z",
     "shell.execute_reply": "2024-12-06T08:37:20.048633Z"
    },
    "papermill": {
     "duration": 0.026509,
     "end_time": "2024-12-06T08:37:20.051003",
     "exception": false,
     "start_time": "2024-12-06T08:37:20.024494",
     "status": "completed"
    },
    "tags": []
   },
   "outputs": [
    {
     "data": {
      "text/html": [
       "<div>\n",
       "<style scoped>\n",
       "    .dataframe tbody tr th:only-of-type {\n",
       "        vertical-align: middle;\n",
       "    }\n",
       "\n",
       "    .dataframe tbody tr th {\n",
       "        vertical-align: top;\n",
       "    }\n",
       "\n",
       "    .dataframe thead th {\n",
       "        text-align: right;\n",
       "    }\n",
       "</style>\n",
       "<table border=\"1\" class=\"dataframe\">\n",
       "  <thead>\n",
       "    <tr style=\"text-align: right;\">\n",
       "      <th></th>\n",
       "      <th>id</th>\n",
       "      <th>text</th>\n",
       "    </tr>\n",
       "  </thead>\n",
       "  <tbody>\n",
       "    <tr>\n",
       "      <th>0</th>\n",
       "      <td>0</td>\n",
       "      <td>advent chimney elf family fireplace gingerbrea...</td>\n",
       "    </tr>\n",
       "    <tr>\n",
       "      <th>1</th>\n",
       "      <td>1</td>\n",
       "      <td>advent chimney elf family fireplace gingerbrea...</td>\n",
       "    </tr>\n",
       "    <tr>\n",
       "      <th>2</th>\n",
       "      <td>2</td>\n",
       "      <td>yuletide decorations gifts cheer holiday carol...</td>\n",
       "    </tr>\n",
       "    <tr>\n",
       "      <th>3</th>\n",
       "      <td>3</td>\n",
       "      <td>yuletide decorations gifts cheer holiday carol...</td>\n",
       "    </tr>\n",
       "    <tr>\n",
       "      <th>4</th>\n",
       "      <td>4</td>\n",
       "      <td>hohoho candle poinsettia snowglobe peppermint ...</td>\n",
       "    </tr>\n",
       "  </tbody>\n",
       "</table>\n",
       "</div>"
      ],
      "text/plain": [
       "   id                                               text\n",
       "0   0  advent chimney elf family fireplace gingerbrea...\n",
       "1   1  advent chimney elf family fireplace gingerbrea...\n",
       "2   2  yuletide decorations gifts cheer holiday carol...\n",
       "3   3  yuletide decorations gifts cheer holiday carol...\n",
       "4   4  hohoho candle poinsettia snowglobe peppermint ..."
      ]
     },
     "execution_count": 2,
     "metadata": {},
     "output_type": "execute_result"
    }
   ],
   "source": [
    "input_data = pd.read_csv('/kaggle/input/santa-2024/sample_submission.csv')\n",
    "input_data.head()"
   ]
  },
  {
   "cell_type": "code",
   "execution_count": 3,
   "id": "9697e81e",
   "metadata": {
    "execution": {
     "iopub.execute_input": "2024-12-06T08:37:20.055587Z",
     "iopub.status.busy": "2024-12-06T08:37:20.055340Z",
     "iopub.status.idle": "2024-12-06T08:40:11.283942Z",
     "shell.execute_reply": "2024-12-06T08:40:11.283173Z"
    },
    "papermill": {
     "duration": 171.233115,
     "end_time": "2024-12-06T08:40:11.285932",
     "exception": false,
     "start_time": "2024-12-06T08:37:20.052817",
     "status": "completed"
    },
    "tags": []
   },
   "outputs": [
    {
     "data": {
      "application/vnd.jupyter.widget-view+json": {
       "model_id": "918ff107537a4f818442868a5c5352f7",
       "version_major": 2,
       "version_minor": 0
      },
      "text/plain": [
       "Loading checkpoint shards:   0%|          | 0/8 [00:00<?, ?it/s]"
      ]
     },
     "metadata": {},
     "output_type": "display_data"
    }
   ],
   "source": [
    "#gemma-2-9b (model used for prediction)\n",
    "scorer = PerplexityCalculator('/kaggle/input/gemma-2/transformers/gemma-2-9b/2')"
   ]
  },
  {
   "cell_type": "code",
   "execution_count": 4,
   "id": "ff5777dd",
   "metadata": {
    "execution": {
     "iopub.execute_input": "2024-12-06T08:40:11.294214Z",
     "iopub.status.busy": "2024-12-06T08:40:11.293321Z",
     "iopub.status.idle": "2024-12-06T08:40:12.711928Z",
     "shell.execute_reply": "2024-12-06T08:40:12.710925Z"
    },
    "papermill": {
     "duration": 1.42547,
     "end_time": "2024-12-06T08:40:12.713832",
     "exception": false,
     "start_time": "2024-12-06T08:40:11.288362",
     "status": "completed"
    },
    "tags": []
   },
   "outputs": [
    {
     "name": "stdout",
     "output_type": "stream",
     "text": [
      "Determining perplexity scores:\n",
      "Row 0: advent chimney elf family fireplace gingerbread mistletoe ornament reindeer scrooge\n",
      "Perplexity Score: 3887.90\n",
      "\n",
      "Row 1: advent chimney elf family fireplace gingerbread mistletoe ornament reindeer scrooge walk give jump drive bake the sleep night laugh and\n",
      "Perplexity Score: 6068.93\n",
      "\n",
      "Row 2: yuletide decorations gifts cheer holiday carol magi nutcracker polar grinch sleigh chimney workshop stocking ornament holly jingle beard naughty nice\n",
      "Perplexity Score: 1118.26\n",
      "\n",
      "Row 3: yuletide decorations gifts cheer holiday carol magi nutcracker polar grinch sleigh chimney workshop stocking ornament holly jingle beard naughty nice sing cheer and of the is eat visit relax unwrap\n",
      "Perplexity Score: 1287.11\n",
      "\n",
      "Row 4: hohoho candle poinsettia snowglobe peppermint eggnog fruitcake chocolate candy puzzle game doll toy workshop wonder believe dream hope peace joy merry season greeting card wrapping paper bow fireplace night cookie milk star wish wreath angel the to of and in that have it not with as you from we kaggle\n",
      "Perplexity Score: 353.25\n",
      "\n",
      "Row 5: advent chimney elf family fireplace gingerbread mistletoe ornament reindeer scrooge walk give jump drive bake the sleep night laugh and yuletide decorations gifts cheer holiday carol magi nutcracker polar grinch sleigh chimney workshop stocking ornament holly jingle beard naughty nice sing cheer and of the is eat visit relax unwrap hohoho candle poinsettia snowglobe peppermint eggnog fruitcake chocolate candy puzzle game doll toy workshop wonder believe dream hope peace joy merry season greeting card wrapping paper bow fireplace night cookie milk star wish wreath angel the to of and in that have it not with as you from we kaggle\n",
      "Perplexity Score: 354.64\n",
      "\n",
      "Mean Perplexity Score: 2178.35\n"
     ]
    }
   ],
   "source": [
    "scores = []\n",
    "\n",
    "print(\"Determining perplexity scores:\")\n",
    "\n",
    "for idx, row in input_data.iterrows():\n",
    "    score = scorer.get_perplexity(row.text)\n",
    "    \n",
    "    # Log details for each row\n",
    "    print(f\"Row {idx}: {row.text}\")\n",
    "    print(f\"Perplexity Score: {score:.2f}\\n\")\n",
    "    \n",
    "    # Append score to the list\n",
    "    scores.append(score)\n",
    "\n",
    "# Calculate and print the mean perplexity score\n",
    "mean_score = np.mean(scores)\n",
    "print(f\"Mean Perplexity Score: {mean_score:.2f}\")"
   ]
  },
  {
   "cell_type": "code",
   "execution_count": 5,
   "id": "46c223d1",
   "metadata": {
    "execution": {
     "iopub.execute_input": "2024-12-06T08:40:12.721119Z",
     "iopub.status.busy": "2024-12-06T08:40:12.720404Z",
     "iopub.status.idle": "2024-12-06T08:40:12.741601Z",
     "shell.execute_reply": "2024-12-06T08:40:12.740707Z"
    },
    "papermill": {
     "duration": 0.025815,
     "end_time": "2024-12-06T08:40:12.743245",
     "exception": false,
     "start_time": "2024-12-06T08:40:12.717430",
     "status": "completed"
    },
    "tags": []
   },
   "outputs": [
    {
     "name": "stdout",
     "output_type": "stream",
     "text": [
      "submission.csv created\n"
     ]
    }
   ],
   "source": [
    "submission = pd.DataFrame(columns=['id', 'text'])\n",
    "\n",
    "for idx, row in input_data.iterrows():\n",
    "\n",
    "    id = row.id\n",
    "    \n",
    "    optimized_text = row.text\n",
    "\n",
    "    submission.loc[idx] = {\n",
    "        'id': id,\n",
    "        'text': optimized_text\n",
    "    }\n",
    "\n",
    "# write to file\n",
    "submission.to_csv(\"submission.csv\", index=False)\n",
    "\n",
    "print('submission.csv created')"
   ]
  }
 ],
 "metadata": {
  "kaggle": {
   "accelerator": "nvidiaTeslaT4",
   "dataSources": [
    {
     "databundleVersionId": 10229277,
     "sourceId": 88046,
     "sourceType": "competition"
    },
    {
     "isSourceIdPinned": true,
     "modelId": 76277,
     "modelInstanceId": 72255,
     "sourceId": 104492,
     "sourceType": "modelInstanceVersion"
    },
    {
     "sourceId": 209577560,
     "sourceType": "kernelVersion"
    }
   ],
   "dockerImageVersionId": 30804,
   "isGpuEnabled": true,
   "isInternetEnabled": true,
   "language": "python",
   "sourceType": "notebook"
  },
  "kernelspec": {
   "display_name": "Python 3",
   "language": "python",
   "name": "python3"
  },
  "language_info": {
   "codemirror_mode": {
    "name": "ipython",
    "version": 3
   },
   "file_extension": ".py",
   "mimetype": "text/x-python",
   "name": "python",
   "nbconvert_exporter": "python",
   "pygments_lexer": "ipython3",
   "version": "3.10.14"
  },
  "papermill": {
   "default_parameters": {},
   "duration": 182.632578,
   "end_time": "2024-12-06T08:40:16.507122",
   "environment_variables": {},
   "exception": null,
   "input_path": "__notebook__.ipynb",
   "output_path": "__notebook__.ipynb",
   "parameters": {},
   "start_time": "2024-12-06T08:37:13.874544",
   "version": "2.6.0"
  },
  "widgets": {
   "application/vnd.jupyter.widget-state+json": {
    "state": {
     "23fb823a9a2740bf9e5e65fd11fc4c7a": {
      "model_module": "@jupyter-widgets/controls",
      "model_module_version": "2.0.0",
      "model_name": "FloatProgressModel",
      "state": {
       "_dom_classes": [],
       "_model_module": "@jupyter-widgets/controls",
       "_model_module_version": "2.0.0",
       "_model_name": "FloatProgressModel",
       "_view_count": null,
       "_view_module": "@jupyter-widgets/controls",
       "_view_module_version": "2.0.0",
       "_view_name": "ProgressView",
       "bar_style": "success",
       "description": "",
       "description_allow_html": false,
       "layout": "IPY_MODEL_606e39e5bcb94bd088e2039d2b08753b",
       "max": 8.0,
       "min": 0.0,
       "orientation": "horizontal",
       "style": "IPY_MODEL_b9f7b2ce47fa417cbd536bfcf4cbab7a",
       "tabbable": null,
       "tooltip": null,
       "value": 8.0
      }
     },
     "606e39e5bcb94bd088e2039d2b08753b": {
      "model_module": "@jupyter-widgets/base",
      "model_module_version": "2.0.0",
      "model_name": "LayoutModel",
      "state": {
       "_model_module": "@jupyter-widgets/base",
       "_model_module_version": "2.0.0",
       "_model_name": "LayoutModel",
       "_view_count": null,
       "_view_module": "@jupyter-widgets/base",
       "_view_module_version": "2.0.0",
       "_view_name": "LayoutView",
       "align_content": null,
       "align_items": null,
       "align_self": null,
       "border_bottom": null,
       "border_left": null,
       "border_right": null,
       "border_top": null,
       "bottom": null,
       "display": null,
       "flex": null,
       "flex_flow": null,
       "grid_area": null,
       "grid_auto_columns": null,
       "grid_auto_flow": null,
       "grid_auto_rows": null,
       "grid_column": null,
       "grid_gap": null,
       "grid_row": null,
       "grid_template_areas": null,
       "grid_template_columns": null,
       "grid_template_rows": null,
       "height": null,
       "justify_content": null,
       "justify_items": null,
       "left": null,
       "margin": null,
       "max_height": null,
       "max_width": null,
       "min_height": null,
       "min_width": null,
       "object_fit": null,
       "object_position": null,
       "order": null,
       "overflow": null,
       "padding": null,
       "right": null,
       "top": null,
       "visibility": null,
       "width": null
      }
     },
     "62c01fdea13144b88a00cb8200d3e92a": {
      "model_module": "@jupyter-widgets/base",
      "model_module_version": "2.0.0",
      "model_name": "LayoutModel",
      "state": {
       "_model_module": "@jupyter-widgets/base",
       "_model_module_version": "2.0.0",
       "_model_name": "LayoutModel",
       "_view_count": null,
       "_view_module": "@jupyter-widgets/base",
       "_view_module_version": "2.0.0",
       "_view_name": "LayoutView",
       "align_content": null,
       "align_items": null,
       "align_self": null,
       "border_bottom": null,
       "border_left": null,
       "border_right": null,
       "border_top": null,
       "bottom": null,
       "display": null,
       "flex": null,
       "flex_flow": null,
       "grid_area": null,
       "grid_auto_columns": null,
       "grid_auto_flow": null,
       "grid_auto_rows": null,
       "grid_column": null,
       "grid_gap": null,
       "grid_row": null,
       "grid_template_areas": null,
       "grid_template_columns": null,
       "grid_template_rows": null,
       "height": null,
       "justify_content": null,
       "justify_items": null,
       "left": null,
       "margin": null,
       "max_height": null,
       "max_width": null,
       "min_height": null,
       "min_width": null,
       "object_fit": null,
       "object_position": null,
       "order": null,
       "overflow": null,
       "padding": null,
       "right": null,
       "top": null,
       "visibility": null,
       "width": null
      }
     },
     "743e3e61e6674b9889f71ec4a19e8d76": {
      "model_module": "@jupyter-widgets/controls",
      "model_module_version": "2.0.0",
      "model_name": "HTMLStyleModel",
      "state": {
       "_model_module": "@jupyter-widgets/controls",
       "_model_module_version": "2.0.0",
       "_model_name": "HTMLStyleModel",
       "_view_count": null,
       "_view_module": "@jupyter-widgets/base",
       "_view_module_version": "2.0.0",
       "_view_name": "StyleView",
       "background": null,
       "description_width": "",
       "font_size": null,
       "text_color": null
      }
     },
     "7c5af5dbf6f74d0093cbd70257a45655": {
      "model_module": "@jupyter-widgets/base",
      "model_module_version": "2.0.0",
      "model_name": "LayoutModel",
      "state": {
       "_model_module": "@jupyter-widgets/base",
       "_model_module_version": "2.0.0",
       "_model_name": "LayoutModel",
       "_view_count": null,
       "_view_module": "@jupyter-widgets/base",
       "_view_module_version": "2.0.0",
       "_view_name": "LayoutView",
       "align_content": null,
       "align_items": null,
       "align_self": null,
       "border_bottom": null,
       "border_left": null,
       "border_right": null,
       "border_top": null,
       "bottom": null,
       "display": null,
       "flex": null,
       "flex_flow": null,
       "grid_area": null,
       "grid_auto_columns": null,
       "grid_auto_flow": null,
       "grid_auto_rows": null,
       "grid_column": null,
       "grid_gap": null,
       "grid_row": null,
       "grid_template_areas": null,
       "grid_template_columns": null,
       "grid_template_rows": null,
       "height": null,
       "justify_content": null,
       "justify_items": null,
       "left": null,
       "margin": null,
       "max_height": null,
       "max_width": null,
       "min_height": null,
       "min_width": null,
       "object_fit": null,
       "object_position": null,
       "order": null,
       "overflow": null,
       "padding": null,
       "right": null,
       "top": null,
       "visibility": null,
       "width": null
      }
     },
     "918ff107537a4f818442868a5c5352f7": {
      "model_module": "@jupyter-widgets/controls",
      "model_module_version": "2.0.0",
      "model_name": "HBoxModel",
      "state": {
       "_dom_classes": [],
       "_model_module": "@jupyter-widgets/controls",
       "_model_module_version": "2.0.0",
       "_model_name": "HBoxModel",
       "_view_count": null,
       "_view_module": "@jupyter-widgets/controls",
       "_view_module_version": "2.0.0",
       "_view_name": "HBoxView",
       "box_style": "",
       "children": [
        "IPY_MODEL_ddea30ae9fde48cd9ba4dbcdaa19dcb9",
        "IPY_MODEL_23fb823a9a2740bf9e5e65fd11fc4c7a",
        "IPY_MODEL_caca0c50c2254f438349ddb960b04ea7"
       ],
       "layout": "IPY_MODEL_7c5af5dbf6f74d0093cbd70257a45655",
       "tabbable": null,
       "tooltip": null
      }
     },
     "b9f7b2ce47fa417cbd536bfcf4cbab7a": {
      "model_module": "@jupyter-widgets/controls",
      "model_module_version": "2.0.0",
      "model_name": "ProgressStyleModel",
      "state": {
       "_model_module": "@jupyter-widgets/controls",
       "_model_module_version": "2.0.0",
       "_model_name": "ProgressStyleModel",
       "_view_count": null,
       "_view_module": "@jupyter-widgets/base",
       "_view_module_version": "2.0.0",
       "_view_name": "StyleView",
       "bar_color": null,
       "description_width": ""
      }
     },
     "bb2fff146be646d1b86c73e0efecf927": {
      "model_module": "@jupyter-widgets/controls",
      "model_module_version": "2.0.0",
      "model_name": "HTMLStyleModel",
      "state": {
       "_model_module": "@jupyter-widgets/controls",
       "_model_module_version": "2.0.0",
       "_model_name": "HTMLStyleModel",
       "_view_count": null,
       "_view_module": "@jupyter-widgets/base",
       "_view_module_version": "2.0.0",
       "_view_name": "StyleView",
       "background": null,
       "description_width": "",
       "font_size": null,
       "text_color": null
      }
     },
     "caca0c50c2254f438349ddb960b04ea7": {
      "model_module": "@jupyter-widgets/controls",
      "model_module_version": "2.0.0",
      "model_name": "HTMLModel",
      "state": {
       "_dom_classes": [],
       "_model_module": "@jupyter-widgets/controls",
       "_model_module_version": "2.0.0",
       "_model_name": "HTMLModel",
       "_view_count": null,
       "_view_module": "@jupyter-widgets/controls",
       "_view_module_version": "2.0.0",
       "_view_name": "HTMLView",
       "description": "",
       "description_allow_html": false,
       "layout": "IPY_MODEL_f74c8aea7b024174b5534b698f07a51d",
       "placeholder": "​",
       "style": "IPY_MODEL_bb2fff146be646d1b86c73e0efecf927",
       "tabbable": null,
       "tooltip": null,
       "value": " 8/8 [02:36&lt;00:00, 17.79s/it]"
      }
     },
     "ddea30ae9fde48cd9ba4dbcdaa19dcb9": {
      "model_module": "@jupyter-widgets/controls",
      "model_module_version": "2.0.0",
      "model_name": "HTMLModel",
      "state": {
       "_dom_classes": [],
       "_model_module": "@jupyter-widgets/controls",
       "_model_module_version": "2.0.0",
       "_model_name": "HTMLModel",
       "_view_count": null,
       "_view_module": "@jupyter-widgets/controls",
       "_view_module_version": "2.0.0",
       "_view_name": "HTMLView",
       "description": "",
       "description_allow_html": false,
       "layout": "IPY_MODEL_62c01fdea13144b88a00cb8200d3e92a",
       "placeholder": "​",
       "style": "IPY_MODEL_743e3e61e6674b9889f71ec4a19e8d76",
       "tabbable": null,
       "tooltip": null,
       "value": "Loading checkpoint shards: 100%"
      }
     },
     "f74c8aea7b024174b5534b698f07a51d": {
      "model_module": "@jupyter-widgets/base",
      "model_module_version": "2.0.0",
      "model_name": "LayoutModel",
      "state": {
       "_model_module": "@jupyter-widgets/base",
       "_model_module_version": "2.0.0",
       "_model_name": "LayoutModel",
       "_view_count": null,
       "_view_module": "@jupyter-widgets/base",
       "_view_module_version": "2.0.0",
       "_view_name": "LayoutView",
       "align_content": null,
       "align_items": null,
       "align_self": null,
       "border_bottom": null,
       "border_left": null,
       "border_right": null,
       "border_top": null,
       "bottom": null,
       "display": null,
       "flex": null,
       "flex_flow": null,
       "grid_area": null,
       "grid_auto_columns": null,
       "grid_auto_flow": null,
       "grid_auto_rows": null,
       "grid_column": null,
       "grid_gap": null,
       "grid_row": null,
       "grid_template_areas": null,
       "grid_template_columns": null,
       "grid_template_rows": null,
       "height": null,
       "justify_content": null,
       "justify_items": null,
       "left": null,
       "margin": null,
       "max_height": null,
       "max_width": null,
       "min_height": null,
       "min_width": null,
       "object_fit": null,
       "object_position": null,
       "order": null,
       "overflow": null,
       "padding": null,
       "right": null,
       "top": null,
       "visibility": null,
       "width": null
      }
     }
    },
    "version_major": 2,
    "version_minor": 0
   }
  }
 },
 "nbformat": 4,
 "nbformat_minor": 5
}
