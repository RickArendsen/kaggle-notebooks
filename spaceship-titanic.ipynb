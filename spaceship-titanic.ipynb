{
 "cells": [
  {
   "cell_type": "markdown",
   "id": "6d82020b",
   "metadata": {
    "_cell_guid": "e264de85-ce7d-4c92-bdc9-130dfbfc1d0f",
    "_uuid": "a2604276-e937-4424-be6c-978dd2dc875e",
    "collapsed": false,
    "jupyter": {
     "outputs_hidden": false
    },
    "papermill": {
     "duration": 0.003996,
     "end_time": "2025-10-02T11:56:46.761562",
     "exception": false,
     "start_time": "2025-10-02T11:56:46.757566",
     "status": "completed"
    },
    "tags": []
   },
   "source": [
    "# Spaceship Titanic\n",
    "Submission by *Rick Arendsen*\n",
    "\n",
    "After attempting the regular titanic exercise I thought it might be a good idea to try and tackle this one."
   ]
  },
  {
   "cell_type": "code",
   "execution_count": 1,
   "id": "7866cded",
   "metadata": {
    "_cell_guid": "8bfaac40-eb58-46ce-9ac4-b2b962c33b82",
    "_uuid": "85b31e09-7d49-43a9-93fb-a93fdd814c15",
    "collapsed": false,
    "execution": {
     "iopub.execute_input": "2025-10-02T11:56:46.768931Z",
     "iopub.status.busy": "2025-10-02T11:56:46.768695Z",
     "iopub.status.idle": "2025-10-02T11:57:03.978634Z",
     "shell.execute_reply": "2025-10-02T11:57:03.977976Z"
    },
    "jupyter": {
     "outputs_hidden": false
    },
    "papermill": {
     "duration": 17.215235,
     "end_time": "2025-10-02T11:57:03.980231",
     "exception": false,
     "start_time": "2025-10-02T11:56:46.764996",
     "status": "completed"
    },
    "tags": []
   },
   "outputs": [
    {
     "name": "stderr",
     "output_type": "stream",
     "text": [
      "2025-10-02 11:56:51.760764: E external/local_xla/xla/stream_executor/cuda/cuda_fft.cc:477] Unable to register cuFFT factory: Attempting to register factory for plugin cuFFT when one has already been registered\n",
      "WARNING: All log messages before absl::InitializeLog() is called are written to STDERR\n",
      "E0000 00:00:1759406211.971129      19 cuda_dnn.cc:8310] Unable to register cuDNN factory: Attempting to register factory for plugin cuDNN when one has already been registered\n",
      "E0000 00:00:1759406212.032128      19 cuda_blas.cc:1418] Unable to register cuBLAS factory: Attempting to register factory for plugin cuBLAS when one has already been registered\n"
     ]
    }
   ],
   "source": [
    "# Import our required libraries.\n",
    "import matplotlib.pyplot as plt\n",
    "import numpy as np\n",
    "import pandas as pd\n",
    "import seaborn as sns\n",
    "import tensorflow  as tf\n",
    "\n",
    "# Import TensorFlow Dependencies:\n",
    "from tensorflow import keras\n",
    "from tensorflow.keras.layers import Normalization, Dropout, GaussianNoise, Dense\n",
    "from tensorflow.keras.callbacks import EarlyStopping, ReduceLROnPlateau\n",
    "\n",
    "# Import Model Training Dependencies:\n",
    "from sklearn.model_selection import train_test_split"
   ]
  },
  {
   "cell_type": "code",
   "execution_count": 2,
   "id": "d915c26c",
   "metadata": {
    "_cell_guid": "6dfbd985-de64-401e-adaf-79706bb67207",
    "_uuid": "1e62edb2-4e4c-4203-aa0d-be963c00ba41",
    "collapsed": false,
    "execution": {
     "iopub.execute_input": "2025-10-02T11:57:03.988485Z",
     "iopub.status.busy": "2025-10-02T11:57:03.987561Z",
     "iopub.status.idle": "2025-10-02T11:57:04.055649Z",
     "shell.execute_reply": "2025-10-02T11:57:04.055037Z"
    },
    "jupyter": {
     "outputs_hidden": false
    },
    "papermill": {
     "duration": 0.073267,
     "end_time": "2025-10-02T11:57:04.057087",
     "exception": false,
     "start_time": "2025-10-02T11:57:03.983820",
     "status": "completed"
    },
    "tags": []
   },
   "outputs": [],
   "source": [
    "BASE_DIRECTORY: str = \"/kaggle/input/spaceship-titanic\"\n",
    "TRAIN_PATH = f\"{BASE_DIRECTORY}/train.csv\"\n",
    "TEST_PATH = f\"{BASE_DIRECTORY}/test.csv\"\n",
    "\n",
    "# Load the file we'll be using.\n",
    "data = pd.read_csv(TRAIN_PATH)\n",
    "test = pd.read_csv(TEST_PATH)"
   ]
  },
  {
   "cell_type": "markdown",
   "id": "f7b1a8c2",
   "metadata": {
    "_cell_guid": "2c798128-b0d0-4ba9-9bc8-2ce2b8fe79bd",
    "_uuid": "9976de31-b694-4285-a95d-0d613f946743",
    "collapsed": false,
    "jupyter": {
     "outputs_hidden": false
    },
    "papermill": {
     "duration": 0.003031,
     "end_time": "2025-10-02T11:57:04.063984",
     "exception": false,
     "start_time": "2025-10-02T11:57:04.060953",
     "status": "completed"
    },
    "tags": []
   },
   "source": [
    "## Data Analysis\n",
    "Let's start by seeing what the data looks like, and let's try finding the correlations between each attribute."
   ]
  },
  {
   "cell_type": "code",
   "execution_count": 3,
   "id": "4a9005df",
   "metadata": {
    "_cell_guid": "d13ca2a5-2e0a-4757-ae4d-4112707e82e1",
    "_uuid": "27193056-83e1-4141-bd87-d42573f54acd",
    "collapsed": false,
    "execution": {
     "iopub.execute_input": "2025-10-02T11:57:04.071390Z",
     "iopub.status.busy": "2025-10-02T11:57:04.070829Z",
     "iopub.status.idle": "2025-10-02T11:57:04.099630Z",
     "shell.execute_reply": "2025-10-02T11:57:04.098803Z"
    },
    "jupyter": {
     "outputs_hidden": false
    },
    "papermill": {
     "duration": 0.033875,
     "end_time": "2025-10-02T11:57:04.100904",
     "exception": false,
     "start_time": "2025-10-02T11:57:04.067029",
     "status": "completed"
    },
    "tags": []
   },
   "outputs": [
    {
     "data": {
      "text/html": [
       "<div>\n",
       "<style scoped>\n",
       "    .dataframe tbody tr th:only-of-type {\n",
       "        vertical-align: middle;\n",
       "    }\n",
       "\n",
       "    .dataframe tbody tr th {\n",
       "        vertical-align: top;\n",
       "    }\n",
       "\n",
       "    .dataframe thead th {\n",
       "        text-align: right;\n",
       "    }\n",
       "</style>\n",
       "<table border=\"1\" class=\"dataframe\">\n",
       "  <thead>\n",
       "    <tr style=\"text-align: right;\">\n",
       "      <th></th>\n",
       "      <th>PassengerId</th>\n",
       "      <th>HomePlanet</th>\n",
       "      <th>CryoSleep</th>\n",
       "      <th>Cabin</th>\n",
       "      <th>Destination</th>\n",
       "      <th>Age</th>\n",
       "      <th>VIP</th>\n",
       "      <th>RoomService</th>\n",
       "      <th>FoodCourt</th>\n",
       "      <th>ShoppingMall</th>\n",
       "      <th>Spa</th>\n",
       "      <th>VRDeck</th>\n",
       "      <th>Name</th>\n",
       "      <th>Transported</th>\n",
       "    </tr>\n",
       "  </thead>\n",
       "  <tbody>\n",
       "    <tr>\n",
       "      <th>0</th>\n",
       "      <td>0001_01</td>\n",
       "      <td>Europa</td>\n",
       "      <td>False</td>\n",
       "      <td>B/0/P</td>\n",
       "      <td>TRAPPIST-1e</td>\n",
       "      <td>39.0</td>\n",
       "      <td>False</td>\n",
       "      <td>0.0</td>\n",
       "      <td>0.0</td>\n",
       "      <td>0.0</td>\n",
       "      <td>0.0</td>\n",
       "      <td>0.0</td>\n",
       "      <td>Maham Ofracculy</td>\n",
       "      <td>False</td>\n",
       "    </tr>\n",
       "    <tr>\n",
       "      <th>1</th>\n",
       "      <td>0002_01</td>\n",
       "      <td>Earth</td>\n",
       "      <td>False</td>\n",
       "      <td>F/0/S</td>\n",
       "      <td>TRAPPIST-1e</td>\n",
       "      <td>24.0</td>\n",
       "      <td>False</td>\n",
       "      <td>109.0</td>\n",
       "      <td>9.0</td>\n",
       "      <td>25.0</td>\n",
       "      <td>549.0</td>\n",
       "      <td>44.0</td>\n",
       "      <td>Juanna Vines</td>\n",
       "      <td>True</td>\n",
       "    </tr>\n",
       "    <tr>\n",
       "      <th>2</th>\n",
       "      <td>0003_01</td>\n",
       "      <td>Europa</td>\n",
       "      <td>False</td>\n",
       "      <td>A/0/S</td>\n",
       "      <td>TRAPPIST-1e</td>\n",
       "      <td>58.0</td>\n",
       "      <td>True</td>\n",
       "      <td>43.0</td>\n",
       "      <td>3576.0</td>\n",
       "      <td>0.0</td>\n",
       "      <td>6715.0</td>\n",
       "      <td>49.0</td>\n",
       "      <td>Altark Susent</td>\n",
       "      <td>False</td>\n",
       "    </tr>\n",
       "    <tr>\n",
       "      <th>3</th>\n",
       "      <td>0003_02</td>\n",
       "      <td>Europa</td>\n",
       "      <td>False</td>\n",
       "      <td>A/0/S</td>\n",
       "      <td>TRAPPIST-1e</td>\n",
       "      <td>33.0</td>\n",
       "      <td>False</td>\n",
       "      <td>0.0</td>\n",
       "      <td>1283.0</td>\n",
       "      <td>371.0</td>\n",
       "      <td>3329.0</td>\n",
       "      <td>193.0</td>\n",
       "      <td>Solam Susent</td>\n",
       "      <td>False</td>\n",
       "    </tr>\n",
       "    <tr>\n",
       "      <th>4</th>\n",
       "      <td>0004_01</td>\n",
       "      <td>Earth</td>\n",
       "      <td>False</td>\n",
       "      <td>F/1/S</td>\n",
       "      <td>TRAPPIST-1e</td>\n",
       "      <td>16.0</td>\n",
       "      <td>False</td>\n",
       "      <td>303.0</td>\n",
       "      <td>70.0</td>\n",
       "      <td>151.0</td>\n",
       "      <td>565.0</td>\n",
       "      <td>2.0</td>\n",
       "      <td>Willy Santantines</td>\n",
       "      <td>True</td>\n",
       "    </tr>\n",
       "  </tbody>\n",
       "</table>\n",
       "</div>"
      ],
      "text/plain": [
       "  PassengerId HomePlanet CryoSleep  Cabin  Destination   Age    VIP  \\\n",
       "0     0001_01     Europa     False  B/0/P  TRAPPIST-1e  39.0  False   \n",
       "1     0002_01      Earth     False  F/0/S  TRAPPIST-1e  24.0  False   \n",
       "2     0003_01     Europa     False  A/0/S  TRAPPIST-1e  58.0   True   \n",
       "3     0003_02     Europa     False  A/0/S  TRAPPIST-1e  33.0  False   \n",
       "4     0004_01      Earth     False  F/1/S  TRAPPIST-1e  16.0  False   \n",
       "\n",
       "   RoomService  FoodCourt  ShoppingMall     Spa  VRDeck               Name  \\\n",
       "0          0.0        0.0           0.0     0.0     0.0    Maham Ofracculy   \n",
       "1        109.0        9.0          25.0   549.0    44.0       Juanna Vines   \n",
       "2         43.0     3576.0           0.0  6715.0    49.0      Altark Susent   \n",
       "3          0.0     1283.0         371.0  3329.0   193.0       Solam Susent   \n",
       "4        303.0       70.0         151.0   565.0     2.0  Willy Santantines   \n",
       "\n",
       "   Transported  \n",
       "0        False  \n",
       "1         True  \n",
       "2        False  \n",
       "3        False  \n",
       "4         True  "
      ]
     },
     "execution_count": 3,
     "metadata": {},
     "output_type": "execute_result"
    }
   ],
   "source": [
    "data.head()"
   ]
  },
  {
   "cell_type": "markdown",
   "id": "d552738d",
   "metadata": {
    "_cell_guid": "7dbd8a30-42f5-478e-85d5-f796ba3ae355",
    "_uuid": "cef50670-5bfc-4d15-913c-f6e8a0b78d79",
    "collapsed": false,
    "jupyter": {
     "outputs_hidden": false
    },
    "papermill": {
     "duration": 0.003529,
     "end_time": "2025-10-02T11:57:04.108331",
     "exception": false,
     "start_time": "2025-10-02T11:57:04.104802",
     "status": "completed"
    },
    "tags": []
   },
   "source": [
    "It looks like we've got some non-numeric values.\n",
    "**Let's start by mapping these,** so that we can use them within correlations and *(perhaps)* include them in the final features."
   ]
  },
  {
   "cell_type": "code",
   "execution_count": 4,
   "id": "c400fdab",
   "metadata": {
    "_cell_guid": "f87c9b89-fd12-4622-9b72-aea3e84a5355",
    "_uuid": "5e6d38ef-d6fe-46f1-af0c-c03276732d8f",
    "collapsed": false,
    "execution": {
     "iopub.execute_input": "2025-10-02T11:57:04.116335Z",
     "iopub.status.busy": "2025-10-02T11:57:04.116109Z",
     "iopub.status.idle": "2025-10-02T11:57:04.144901Z",
     "shell.execute_reply": "2025-10-02T11:57:04.144342Z"
    },
    "jupyter": {
     "outputs_hidden": false
    },
    "papermill": {
     "duration": 0.034234,
     "end_time": "2025-10-02T11:57:04.146171",
     "exception": false,
     "start_time": "2025-10-02T11:57:04.111937",
     "status": "completed"
    },
    "tags": []
   },
   "outputs": [],
   "source": [
    "def preprocess_df(df):\n",
    "    df = df.copy()\n",
    "\n",
    "    df['HomePlanet'] = df['HomePlanet'].fillna(\"Unknown\").astype(str)\n",
    "    df['Cabin'] = df['Cabin'].fillna(\"Unknown\").astype(str)\n",
    "    df['Destination'] = df['Destination'].fillna(\"Unknown\").astype(str)\n",
    "\n",
    "    # split Cabin\n",
    "    cabin_split = df[\"Cabin\"].str.split(\"/\", expand=True)\n",
    "    df[\"Deck\"] = cabin_split[0].fillna(\"Unknown\")\n",
    "    df[\"CabinNum\"] = pd.to_numeric(cabin_split[1], errors=\"coerce\").fillna(0)\n",
    "    df[\"Side\"] = cabin_split[2].fillna(\"Unknown\")\n",
    "\n",
    "    # cast dtypes\n",
    "    df[\"HomePlanet\"] = df[\"HomePlanet\"].astype(str)\n",
    "    df[\"Destination\"] = df[\"Destination\"].astype(str)\n",
    "    df[\"Deck\"] = df[\"Deck\"].astype(str)\n",
    "    df[\"Side\"] = df[\"Side\"].astype(str)\n",
    "    df[\"CabinNum\"] = df[\"CabinNum\"].astype(\"float32\")\n",
    "    \n",
    "    return df\n",
    "\n",
    "data = preprocess_df(data)"
   ]
  },
  {
   "cell_type": "markdown",
   "id": "415050bf",
   "metadata": {
    "_cell_guid": "ef8c97f7-85f3-4146-9b91-2b8ddcad349d",
    "_uuid": "f31d5ecf-5661-40a8-b526-730deeb1bd51",
    "collapsed": false,
    "jupyter": {
     "outputs_hidden": false
    },
    "papermill": {
     "duration": 0.003354,
     "end_time": "2025-10-02T11:57:04.153180",
     "exception": false,
     "start_time": "2025-10-02T11:57:04.149826",
     "status": "completed"
    },
    "tags": []
   },
   "source": [
    "Now that we've cleaned the data, let's take a look at the data correlations!"
   ]
  },
  {
   "cell_type": "code",
   "execution_count": 5,
   "id": "4843f2ad",
   "metadata": {
    "_cell_guid": "6ad558c5-ef4d-4b8e-8dc3-9b28484d9f06",
    "_uuid": "34a8b386-5d50-4f68-84ac-d6d604f42b3a",
    "collapsed": false,
    "execution": {
     "iopub.execute_input": "2025-10-02T11:57:04.162085Z",
     "iopub.status.busy": "2025-10-02T11:57:04.161861Z",
     "iopub.status.idle": "2025-10-02T11:57:04.525254Z",
     "shell.execute_reply": "2025-10-02T11:57:04.524440Z"
    },
    "jupyter": {
     "outputs_hidden": false
    },
    "papermill": {
     "duration": 0.369154,
     "end_time": "2025-10-02T11:57:04.526729",
     "exception": false,
     "start_time": "2025-10-02T11:57:04.157575",
     "status": "completed"
    },
    "tags": []
   },
   "outputs": [
    {
     "data": {
      "text/plain": [
       "<Axes: >"
      ]
     },
     "execution_count": 5,
     "metadata": {},
     "output_type": "execute_result"
    },
    {
     "data": {
      "image/png": "[encoded data removed]",
      "text/plain": [
       "<Figure size 640x480 with 2 Axes>"
      ]
     },
     "metadata": {},
     "output_type": "display_data"
    }
   ],
   "source": [
    "numeric_df = data.select_dtypes(include=['int64', 'float64', 'bool'])\n",
    "corr = numeric_df.corr()\n",
    "mask = np.triu(np.ones_like(corr, dtype=bool))\n",
    "sns.heatmap(corr, mask=mask, annot=True, fmt=\".2f\", cmap=\"coolwarm\")"
   ]
  },
  {
   "cell_type": "code",
   "execution_count": 6,
   "id": "7e9ce63b",
   "metadata": {
    "_cell_guid": "179d8951-1732-4760-a78d-e6b1cd5dc7e4",
    "_uuid": "c6afa824-25d0-4a90-b241-d1a9cf55feba",
    "collapsed": false,
    "execution": {
     "iopub.execute_input": "2025-10-02T11:57:04.536025Z",
     "iopub.status.busy": "2025-10-02T11:57:04.535776Z",
     "iopub.status.idle": "2025-10-02T11:57:05.803229Z",
     "shell.execute_reply": "2025-10-02T11:57:05.802492Z"
    },
    "jupyter": {
     "outputs_hidden": false
    },
    "papermill": {
     "duration": 1.273588,
     "end_time": "2025-10-02T11:57:05.804666",
     "exception": false,
     "start_time": "2025-10-02T11:57:04.531078",
     "status": "completed"
    },
    "tags": []
   },
   "outputs": [
    {
     "name": "stderr",
     "output_type": "stream",
     "text": [
      "I0000 00:00:1759406225.662574      19 gpu_device.cc:2022] Created device /job:localhost/replica:0/task:0/device:GPU:0 with 13942 MB memory:  -> device: 0, name: Tesla T4, pci bus id: 0000:00:04.0, compute capability: 7.5\n",
      "I0000 00:00:1759406225.663286      19 gpu_device.cc:2022] Created device /job:localhost/replica:0/task:0/device:GPU:1 with 13942 MB memory:  -> device: 1, name: Tesla T4, pci bus id: 0000:00:05.0, compute capability: 7.5\n"
     ]
    }
   ],
   "source": [
    "# Create Layers:\n",
    "homeplanet_layer = tf.keras.layers.StringLookup(output_mode=\"one_hot\", mask_token=None)\n",
    "cabin_layer = tf.keras.layers.StringLookup(output_mode=\"one_hot\", mask_token=None)\n",
    "destination_layer = tf.keras.layers.StringLookup(output_mode=\"one_hot\", mask_token=None)\n",
    "\n",
    "deck_layer = tf.keras.layers.StringLookup(output_mode=\"one_hot\", mask_token=None)\n",
    "cabin_side_layer = tf.keras.layers.StringLookup(output_mode=\"one_hot\", mask_token=None)\n",
    "\n",
    "# Adapt Layers:\n",
    "homeplanet_layer.adapt(data['HomePlanet'])\n",
    "cabin_layer.adapt(data['Cabin'])\n",
    "destination_layer.adapt(data['Destination'])\n",
    "\n",
    "deck_layer.adapt(data['Deck'])\n",
    "cabin_side_layer.adapt(data['Side'])\n",
    "\n",
    "# Cabin Number is interpreted as an integrer, so normalize and adapt a numeric layer:\n",
    "cabin_num_layer = tf.keras.layers.Normalization()\n",
    "cabin_num_layer.adapt(np.array(data['CabinNum']).reshape(-1, 1))"
   ]
  },
  {
   "cell_type": "markdown",
   "id": "2c3c0d3b",
   "metadata": {
    "_cell_guid": "7333739d-d1bf-4aae-a442-4cf9f43c03d2",
    "_uuid": "45b0ece6-9282-4394-8cc2-dd190d1bbe63",
    "collapsed": false,
    "jupyter": {
     "outputs_hidden": false
    },
    "papermill": {
     "duration": 0.003909,
     "end_time": "2025-10-02T11:57:05.813394",
     "exception": false,
     "start_time": "2025-10-02T11:57:05.809485",
     "status": "completed"
    },
    "tags": []
   },
   "source": [
    "Now that we've gotten our layers, let's plug it into the model."
   ]
  },
  {
   "cell_type": "code",
   "execution_count": 7,
   "id": "191facfe",
   "metadata": {
    "_cell_guid": "029130d4-0085-4d26-bd80-53adb4fee5a6",
    "_uuid": "dcfaf63d-3321-4197-a7ec-eb4a3b59da43",
    "collapsed": false,
    "execution": {
     "iopub.execute_input": "2025-10-02T11:57:05.822061Z",
     "iopub.status.busy": "2025-10-02T11:57:05.821835Z",
     "iopub.status.idle": "2025-10-02T11:57:05.831374Z",
     "shell.execute_reply": "2025-10-02T11:57:05.830719Z"
    },
    "jupyter": {
     "outputs_hidden": false
    },
    "papermill": {
     "duration": 0.015133,
     "end_time": "2025-10-02T11:57:05.832394",
     "exception": false,
     "start_time": "2025-10-02T11:57:05.817261",
     "status": "completed"
    },
    "tags": []
   },
   "outputs": [],
   "source": [
    "from tensorflow.keras import layers, Model\n",
    "\n",
    "inputs = {\n",
    "    \"HomePlanet\": layers.Input(shape=(1,), dtype=tf.string, name=\"HomePlanet\"),\n",
    "    \"Destination\": layers.Input(shape=(1,), dtype=tf.string, name=\"Destination\"),\n",
    "    \"Deck\": layers.Input(shape=(1,), dtype=tf.string, name=\"Deck\"),\n",
    "    \"Side\": layers.Input(shape=(1,), dtype=tf.string, name=\"Side\"),\n",
    "    \"CabinNum\": layers.Input(shape=(1,), dtype=tf.float32, name=\"CabinNum\"),\n",
    "}\n",
    "\n",
    "# Encode categorical features\n",
    "homeplanet_encoded = homeplanet_layer(inputs[\"HomePlanet\"])\n",
    "destination_encoded = destination_layer(inputs[\"Destination\"])\n",
    "deck_encoded = deck_layer(inputs[\"Deck\"])\n",
    "side_encoded = cabin_side_layer(inputs[\"Side\"])\n",
    "\n",
    "# Normalize numeric feature\n",
    "cabin_num_encoded = cabin_num_layer(inputs[\"CabinNum\"])"
   ]
  },
  {
   "cell_type": "markdown",
   "id": "98d79a0f",
   "metadata": {
    "_cell_guid": "a64bf724-e39d-4365-a7fc-9c11e67e00b3",
    "_uuid": "f4a0aec9-9d9b-4e77-8fe4-dcf602cc3201",
    "collapsed": false,
    "jupyter": {
     "outputs_hidden": false
    },
    "papermill": {
     "duration": 0.003689,
     "end_time": "2025-10-02T11:57:05.839798",
     "exception": false,
     "start_time": "2025-10-02T11:57:05.836109",
     "status": "completed"
    },
    "tags": []
   },
   "source": [
    "Now that we've encoded the layers, transform it into a vector."
   ]
  },
  {
   "cell_type": "code",
   "execution_count": 8,
   "id": "f28e9b72",
   "metadata": {
    "_cell_guid": "849f5dce-33e9-4101-a5d6-9bfbf4dce29a",
    "_uuid": "a9fc4685-7d3f-4bf9-8b80-19e5226af743",
    "collapsed": false,
    "execution": {
     "iopub.execute_input": "2025-10-02T11:57:05.848788Z",
     "iopub.status.busy": "2025-10-02T11:57:05.848103Z",
     "iopub.status.idle": "2025-10-02T11:57:05.852592Z",
     "shell.execute_reply": "2025-10-02T11:57:05.852039Z"
    },
    "jupyter": {
     "outputs_hidden": false
    },
    "papermill": {
     "duration": 0.009819,
     "end_time": "2025-10-02T11:57:05.853523",
     "exception": false,
     "start_time": "2025-10-02T11:57:05.843704",
     "status": "completed"
    },
    "tags": []
   },
   "outputs": [],
   "source": [
    "x = layers.concatenate([\n",
    "    homeplanet_encoded,\n",
    "    destination_encoded,\n",
    "    deck_encoded,\n",
    "    side_encoded,\n",
    "    cabin_num_encoded\n",
    "])"
   ]
  },
  {
   "cell_type": "code",
   "execution_count": 9,
   "id": "1c84dd41",
   "metadata": {
    "_cell_guid": "fde5392d-00b2-4e7f-8bd0-5908fe9d1a9a",
    "_uuid": "2810a884-7584-4a30-85af-3ac03ceb7d24",
    "collapsed": false,
    "execution": {
     "iopub.execute_input": "2025-10-02T11:57:05.862406Z",
     "iopub.status.busy": "2025-10-02T11:57:05.862233Z",
     "iopub.status.idle": "2025-10-02T11:57:07.164227Z",
     "shell.execute_reply": "2025-10-02T11:57:07.163650Z"
    },
    "jupyter": {
     "outputs_hidden": false
    },
    "papermill": {
     "duration": 1.30795,
     "end_time": "2025-10-02T11:57:07.165508",
     "exception": false,
     "start_time": "2025-10-02T11:57:05.857558",
     "status": "completed"
    },
    "tags": []
   },
   "outputs": [],
   "source": [
    "x = layers.Dense(64, activation=\"relu\")(x)\n",
    "x = layers.Dropout(0.4)(x)\n",
    "x = layers.Dense(32, activation=\"relu\")(x)\n",
    "outputs = layers.Dense(1, activation=\"sigmoid\")(x) \n",
    "\n",
    "model = Model(inputs=inputs, outputs=outputs)\n",
    "\n",
    "model.compile(\n",
    "    optimizer=\"adam\",\n",
    "    loss=\"binary_crossentropy\",\n",
    "    metrics=[\"accuracy\"]\n",
    ")"
   ]
  },
  {
   "cell_type": "code",
   "execution_count": 10,
   "id": "f21279b5",
   "metadata": {
    "_cell_guid": "8848914f-01af-48ab-9711-ef340c1e52c2",
    "_uuid": "51144d9c-5ec9-4196-a9d7-4366d9658572",
    "collapsed": false,
    "execution": {
     "iopub.execute_input": "2025-10-02T11:57:07.174592Z",
     "iopub.status.busy": "2025-10-02T11:57:07.174171Z",
     "iopub.status.idle": "2025-10-02T11:57:07.196177Z",
     "shell.execute_reply": "2025-10-02T11:57:07.195390Z"
    },
    "jupyter": {
     "outputs_hidden": false
    },
    "papermill": {
     "duration": 0.027591,
     "end_time": "2025-10-02T11:57:07.197259",
     "exception": false,
     "start_time": "2025-10-02T11:57:07.169668",
     "status": "completed"
    },
    "tags": []
   },
   "outputs": [],
   "source": [
    "X = data.drop(columns=[\"Transported\"])  \n",
    "y = data[\"Transported\"].astype(int) \n",
    "\n",
    "X_train, X_val, y_train, y_val = train_test_split(\n",
    "    X, y, test_size=0.25, random_state=42, stratify=y\n",
    ")\n",
    "\n",
    "# Cast the features into the correct types:\n",
    "def cast_features(df):\n",
    "    df = df.copy()\n",
    "    \n",
    "    df[\"HomePlanet\"] = df[\"HomePlanet\"].astype(str)\n",
    "    df[\"Destination\"] = df[\"Destination\"].astype(str)\n",
    "    df[\"Deck\"] = df[\"Deck\"].astype(str)\n",
    "    df[\"Side\"] = df[\"Side\"].astype(str)\n",
    "    df[\"CabinNum\"] = df[\"CabinNum\"].astype(\"float32\")\n",
    "    \n",
    "    return df\n",
    "\n",
    "# Cast training data into right types:\n",
    "X_train = cast_features(X_train)\n",
    "X_val = cast_features(X_val)"
   ]
  },
  {
   "cell_type": "code",
   "execution_count": 11,
   "id": "c2d2fa2d",
   "metadata": {
    "_cell_guid": "5eb86e6b-eb17-4fc1-bc5f-8811e654d89c",
    "_uuid": "f7ef7033-73c0-43cf-9c86-b6736b907dc7",
    "collapsed": false,
    "execution": {
     "iopub.execute_input": "2025-10-02T11:57:07.205539Z",
     "iopub.status.busy": "2025-10-02T11:57:07.205335Z",
     "iopub.status.idle": "2025-10-02T11:57:28.796975Z",
     "shell.execute_reply": "2025-10-02T11:57:28.796162Z"
    },
    "jupyter": {
     "outputs_hidden": false
    },
    "papermill": {
     "duration": 21.597303,
     "end_time": "2025-10-02T11:57:28.798352",
     "exception": false,
     "start_time": "2025-10-02T11:57:07.201049",
     "status": "completed"
    },
    "tags": []
   },
   "outputs": [
    {
     "name": "stdout",
     "output_type": "stream",
     "text": [
      "Epoch 1/35\n",
      "\u001b[1m102/102\u001b[0m \u001b[32m━━━━━━━━━━━━━━━━━━━━\u001b[0m\u001b[37m\u001b[0m \u001b[1m5s\u001b[0m 10ms/step - accuracy: 0.5666 - loss: 0.6823 - val_accuracy: 0.6265 - val_loss: 0.6546\n",
      "Epoch 2/35\n",
      "\u001b[1m102/102\u001b[0m \u001b[32m━━━━━━━━━━━━━━━━━━━━\u001b[0m\u001b[37m\u001b[0m \u001b[1m1s\u001b[0m 6ms/step - accuracy: 0.6072 - loss: 0.6598 - val_accuracy: 0.6421 - val_loss: 0.6414\n",
      "Epoch 3/35\n",
      "\u001b[1m102/102\u001b[0m \u001b[32m━━━━━━━━━━━━━━━━━━━━\u001b[0m\u001b[37m\u001b[0m \u001b[1m1s\u001b[0m 6ms/step - accuracy: 0.6300 - loss: 0.6525 - val_accuracy: 0.6509 - val_loss: 0.6354\n",
      "Epoch 4/35\n",
      "\u001b[1m102/102\u001b[0m \u001b[32m━━━━━━━━━━━━━━━━━━━━\u001b[0m\u001b[37m\u001b[0m \u001b[1m1s\u001b[0m 6ms/step - accuracy: 0.6419 - loss: 0.6450 - val_accuracy: 0.6509 - val_loss: 0.6336\n",
      "Epoch 5/35\n",
      "\u001b[1m102/102\u001b[0m \u001b[32m━━━━━━━━━━━━━━━━━━━━\u001b[0m\u001b[37m\u001b[0m \u001b[1m1s\u001b[0m 6ms/step - accuracy: 0.6475 - loss: 0.6385 - val_accuracy: 0.6559 - val_loss: 0.6324\n",
      "Epoch 6/35\n",
      "\u001b[1m102/102\u001b[0m \u001b[32m━━━━━━━━━━━━━━━━━━━━\u001b[0m\u001b[37m\u001b[0m \u001b[1m1s\u001b[0m 6ms/step - accuracy: 0.6455 - loss: 0.6371 - val_accuracy: 0.6550 - val_loss: 0.6321\n",
      "Epoch 7/35\n",
      "\u001b[1m102/102\u001b[0m \u001b[32m━━━━━━━━━━━━━━━━━━━━\u001b[0m\u001b[37m\u001b[0m \u001b[1m1s\u001b[0m 6ms/step - accuracy: 0.6467 - loss: 0.6381 - val_accuracy: 0.6596 - val_loss: 0.6306\n",
      "Epoch 8/35\n",
      "\u001b[1m102/102\u001b[0m \u001b[32m━━━━━━━━━━━━━━━━━━━━\u001b[0m\u001b[37m\u001b[0m \u001b[1m1s\u001b[0m 6ms/step - accuracy: 0.6555 - loss: 0.6350 - val_accuracy: 0.6605 - val_loss: 0.6313\n",
      "Epoch 9/35\n",
      "\u001b[1m102/102\u001b[0m \u001b[32m━━━━━━━━━━━━━━━━━━━━\u001b[0m\u001b[37m\u001b[0m \u001b[1m1s\u001b[0m 6ms/step - accuracy: 0.6619 - loss: 0.6298 - val_accuracy: 0.6573 - val_loss: 0.6291\n",
      "Epoch 10/35\n",
      "\u001b[1m102/102\u001b[0m \u001b[32m━━━━━━━━━━━━━━━━━━━━\u001b[0m\u001b[37m\u001b[0m \u001b[1m1s\u001b[0m 6ms/step - accuracy: 0.6610 - loss: 0.6269 - val_accuracy: 0.6573 - val_loss: 0.6289\n",
      "Epoch 11/35\n",
      "\u001b[1m102/102\u001b[0m \u001b[32m━━━━━━━━━━━━━━━━━━━━\u001b[0m\u001b[37m\u001b[0m \u001b[1m1s\u001b[0m 6ms/step - accuracy: 0.6448 - loss: 0.6380 - val_accuracy: 0.6523 - val_loss: 0.6292\n",
      "Epoch 12/35\n",
      "\u001b[1m102/102\u001b[0m \u001b[32m━━━━━━━━━━━━━━━━━━━━\u001b[0m\u001b[37m\u001b[0m \u001b[1m1s\u001b[0m 6ms/step - accuracy: 0.6511 - loss: 0.6344 - val_accuracy: 0.6578 - val_loss: 0.6269\n",
      "Epoch 13/35\n",
      "\u001b[1m102/102\u001b[0m \u001b[32m━━━━━━━━━━━━━━━━━━━━\u001b[0m\u001b[37m\u001b[0m \u001b[1m1s\u001b[0m 6ms/step - accuracy: 0.6552 - loss: 0.6343 - val_accuracy: 0.6550 - val_loss: 0.6278\n",
      "Epoch 14/35\n",
      "\u001b[1m102/102\u001b[0m \u001b[32m━━━━━━━━━━━━━━━━━━━━\u001b[0m\u001b[37m\u001b[0m \u001b[1m1s\u001b[0m 6ms/step - accuracy: 0.6519 - loss: 0.6351 - val_accuracy: 0.6569 - val_loss: 0.6273\n",
      "Epoch 15/35\n",
      "\u001b[1m102/102\u001b[0m \u001b[32m━━━━━━━━━━━━━━━━━━━━\u001b[0m\u001b[37m\u001b[0m \u001b[1m1s\u001b[0m 6ms/step - accuracy: 0.6539 - loss: 0.6331 - val_accuracy: 0.6582 - val_loss: 0.6267\n",
      "Epoch 16/35\n",
      "\u001b[1m102/102\u001b[0m \u001b[32m━━━━━━━━━━━━━━━━━━━━\u001b[0m\u001b[37m\u001b[0m \u001b[1m1s\u001b[0m 6ms/step - accuracy: 0.6555 - loss: 0.6262 - val_accuracy: 0.6532 - val_loss: 0.6272\n",
      "Epoch 17/35\n",
      "\u001b[1m102/102\u001b[0m \u001b[32m━━━━━━━━━━━━━━━━━━━━\u001b[0m\u001b[37m\u001b[0m \u001b[1m1s\u001b[0m 6ms/step - accuracy: 0.6482 - loss: 0.6353 - val_accuracy: 0.6500 - val_loss: 0.6266\n",
      "Epoch 18/35\n",
      "\u001b[1m102/102\u001b[0m \u001b[32m━━━━━━━━━━━━━━━━━━━━\u001b[0m\u001b[37m\u001b[0m \u001b[1m1s\u001b[0m 6ms/step - accuracy: 0.6627 - loss: 0.6259 - val_accuracy: 0.6615 - val_loss: 0.6283\n",
      "Epoch 19/35\n",
      "\u001b[1m102/102\u001b[0m \u001b[32m━━━━━━━━━━━━━━━━━━━━\u001b[0m\u001b[37m\u001b[0m \u001b[1m1s\u001b[0m 6ms/step - accuracy: 0.6626 - loss: 0.6287 - val_accuracy: 0.6569 - val_loss: 0.6282\n",
      "Epoch 20/35\n",
      "\u001b[1m102/102\u001b[0m \u001b[32m━━━━━━━━━━━━━━━━━━━━\u001b[0m\u001b[37m\u001b[0m \u001b[1m1s\u001b[0m 6ms/step - accuracy: 0.6602 - loss: 0.6273 - val_accuracy: 0.6578 - val_loss: 0.6277\n",
      "Epoch 21/35\n",
      "\u001b[1m102/102\u001b[0m \u001b[32m━━━━━━━━━━━━━━━━━━━━\u001b[0m\u001b[37m\u001b[0m \u001b[1m1s\u001b[0m 6ms/step - accuracy: 0.6570 - loss: 0.6315 - val_accuracy: 0.6536 - val_loss: 0.6263\n",
      "Epoch 22/35\n",
      "\u001b[1m102/102\u001b[0m \u001b[32m━━━━━━━━━━━━━━━━━━━━\u001b[0m\u001b[37m\u001b[0m \u001b[1m1s\u001b[0m 6ms/step - accuracy: 0.6496 - loss: 0.6344 - val_accuracy: 0.6546 - val_loss: 0.6245\n",
      "Epoch 23/35\n",
      "\u001b[1m102/102\u001b[0m \u001b[32m━━━━━━━━━━━━━━━━━━━━\u001b[0m\u001b[37m\u001b[0m \u001b[1m1s\u001b[0m 6ms/step - accuracy: 0.6503 - loss: 0.6357 - val_accuracy: 0.6628 - val_loss: 0.6255\n",
      "Epoch 24/35\n",
      "\u001b[1m102/102\u001b[0m \u001b[32m━━━━━━━━━━━━━━━━━━━━\u001b[0m\u001b[37m\u001b[0m \u001b[1m1s\u001b[0m 6ms/step - accuracy: 0.6595 - loss: 0.6290 - val_accuracy: 0.6541 - val_loss: 0.6257\n",
      "Epoch 25/35\n",
      "\u001b[1m102/102\u001b[0m \u001b[32m━━━━━━━━━━━━━━━━━━━━\u001b[0m\u001b[37m\u001b[0m \u001b[1m1s\u001b[0m 6ms/step - accuracy: 0.6670 - loss: 0.6231 - val_accuracy: 0.6587 - val_loss: 0.6258\n",
      "Epoch 26/35\n",
      "\u001b[1m102/102\u001b[0m \u001b[32m━━━━━━━━━━━━━━━━━━━━\u001b[0m\u001b[37m\u001b[0m \u001b[1m1s\u001b[0m 6ms/step - accuracy: 0.6582 - loss: 0.6271 - val_accuracy: 0.6619 - val_loss: 0.6250\n",
      "Epoch 27/35\n",
      "\u001b[1m102/102\u001b[0m \u001b[32m━━━━━━━━━━━━━━━━━━━━\u001b[0m\u001b[37m\u001b[0m \u001b[1m1s\u001b[0m 6ms/step - accuracy: 0.6617 - loss: 0.6241 - val_accuracy: 0.6596 - val_loss: 0.6249\n"
     ]
    }
   ],
   "source": [
    "early_stop = EarlyStopping(\n",
    "    monitor=\"val_loss\",\n",
    "    patience=5,  \n",
    "    restore_best_weights=True\n",
    ")\n",
    "\n",
    "history = model.fit(\n",
    "    {col: X_train[col].values for col in inputs.keys()},\n",
    "    y_train.values,\n",
    "    validation_data=(\n",
    "        {col: X_val[col].values for col in inputs.keys()},\n",
    "        y_val.values\n",
    "    ),\n",
    "    \n",
    "    callbacks=[early_stop],\n",
    "    epochs=35,\n",
    "    batch_size=64\n",
    ")"
   ]
  },
  {
   "cell_type": "code",
   "execution_count": 12,
   "id": "d94495d2",
   "metadata": {
    "_cell_guid": "5f20190a-8584-4ef1-a9a7-1a95374a69c8",
    "_uuid": "62c62560-3513-4a91-8110-ce5e79483006",
    "collapsed": false,
    "execution": {
     "iopub.execute_input": "2025-10-02T11:57:28.832846Z",
     "iopub.status.busy": "2025-10-02T11:57:28.832122Z",
     "iopub.status.idle": "2025-10-02T11:57:29.524314Z",
     "shell.execute_reply": "2025-10-02T11:57:29.523739Z"
    },
    "jupyter": {
     "outputs_hidden": false
    },
    "papermill": {
     "duration": 0.709921,
     "end_time": "2025-10-02T11:57:29.525845",
     "exception": false,
     "start_time": "2025-10-02T11:57:28.815924",
     "status": "completed"
    },
    "tags": []
   },
   "outputs": [
    {
     "name": "stdout",
     "output_type": "stream",
     "text": [
      "\u001b[1m134/134\u001b[0m \u001b[32m━━━━━━━━━━━━━━━━━━━━\u001b[0m\u001b[37m\u001b[0m \u001b[1m1s\u001b[0m 3ms/step\n"
     ]
    }
   ],
   "source": [
    "# Cast test set to the correct format & typings:\n",
    "test = preprocess_df(test)\n",
    "test = cast_features(test)\n",
    "\n",
    "predictions = (model.predict({col: test[col].values for col in inputs.keys()}) > 0.5).astype(\"int\")\n",
    "\n",
    "# Build submission:\n",
    "submission = pd.DataFrame({\n",
    "    \"PassengerId\": test[\"PassengerId\"],\n",
    "    \"Transported\": predictions.ravel().astype(bool)\n",
    "})\n",
    "\n",
    "submission.to_csv(\"submission.csv\", index=False)"
   ]
  }
 ],
 "metadata": {
  "kaggle": {
   "accelerator": "nvidiaTeslaT4",
   "dataSources": [
    {
     "databundleVersionId": 3220602,
     "sourceId": 34377,
     "sourceType": "competition"
    }
   ],
   "dockerImageVersionId": 31090,
   "isGpuEnabled": true,
   "isInternetEnabled": true,
   "language": "python",
   "sourceType": "notebook"
  },
  "kernelspec": {
   "display_name": "Python 3",
   "language": "python",
   "name": "python3"
  },
  "language_info": {
   "codemirror_mode": {
    "name": "ipython",
    "version": 3
   },
   "file_extension": ".py",
   "mimetype": "text/x-python",
   "name": "python",
   "nbconvert_exporter": "python",
   "pygments_lexer": "ipython3",
   "version": "3.11.13"
  },
  "papermill": {
   "default_parameters": {},
   "duration": 50.432789,
   "end_time": "2025-10-02T11:57:32.664350",
   "environment_variables": {},
   "exception": null,
   "input_path": "__notebook__.ipynb",
   "output_path": "__notebook__.ipynb",
   "parameters": {},
   "start_time": "2025-10-02T11:56:42.231561",
   "version": "2.6.0"
  }
 },
 "nbformat": 4,
 "nbformat_minor": 5
}
