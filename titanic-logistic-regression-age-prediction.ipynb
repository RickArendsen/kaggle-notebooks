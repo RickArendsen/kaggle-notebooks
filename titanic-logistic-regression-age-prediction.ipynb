{
 "cells": [
  {
   "cell_type": "markdown",
   "id": "9db9fe49",
   "metadata": {
    "execution": {
     "iopub.execute_input": "2024-11-15T14:12:16.419950Z",
     "iopub.status.busy": "2024-11-15T14:12:16.419135Z",
     "iopub.status.idle": "2024-11-15T14:12:16.455159Z",
     "shell.execute_reply": "2024-11-15T14:12:16.453238Z",
     "shell.execute_reply.started": "2024-11-15T14:12:16.419887Z"
    },
    "papermill": {
     "duration": 0.002379,
     "end_time": "2024-11-19T12:11:40.483309",
     "exception": false,
     "start_time": "2024-11-19T12:11:40.480930",
     "status": "completed"
    },
    "tags": []
   },
   "source": [
    "## Titanic Logistic Regression, Age Prediction\n",
    "For the titanic exercise, I want to more closely link the ages to the passengers using a model."
   ]
  },
  {
   "cell_type": "code",
   "execution_count": 1,
   "id": "6693e5e9",
   "metadata": {
    "_cell_guid": "b1076dfc-b9ad-4769-8c92-a6c4dae69d19",
    "_uuid": "8f2839f25d086af736a60e9eeb907d3b93b6e0e5",
    "execution": {
     "iopub.execute_input": "2024-11-19T12:11:40.488325Z",
     "iopub.status.busy": "2024-11-19T12:11:40.488075Z",
     "iopub.status.idle": "2024-11-19T12:11:54.485967Z",
     "shell.execute_reply": "2024-11-19T12:11:54.485234Z"
    },
    "papermill": {
     "duration": 14.002522,
     "end_time": "2024-11-19T12:11:54.487933",
     "exception": false,
     "start_time": "2024-11-19T12:11:40.485411",
     "status": "completed"
    },
    "tags": []
   },
   "outputs": [],
   "source": [
    "import matplotlib.pyplot as plt\n",
    "import numpy as np\n",
    "import pandas as pd\n",
    "import seaborn as sns\n",
    "import tensorflow  as tf\n",
    "\n",
    "from tensorflow import keras\n",
    "from tensorflow.keras import layers, regularizers\n",
    "from tensorflow.keras.layers import Normalization, Dropout, GaussianNoise, Dense\n",
    "from tensorflow.keras.callbacks import EarlyStopping, ReduceLROnPlateau\n",
    "\n",
    "data = pd.read_csv(\"/kaggle/input/titanic/train.csv\")\n",
    "test_data = pd.read_csv(\"/kaggle/input/titanic/test.csv\")"
   ]
  },
  {
   "cell_type": "code",
   "execution_count": 2,
   "id": "4aa295a5",
   "metadata": {
    "execution": {
     "iopub.execute_input": "2024-11-19T12:11:54.493239Z",
     "iopub.status.busy": "2024-11-19T12:11:54.492944Z",
     "iopub.status.idle": "2024-11-19T12:11:54.535603Z",
     "shell.execute_reply": "2024-11-19T12:11:54.534798Z"
    },
    "papermill": {
     "duration": 0.047024,
     "end_time": "2024-11-19T12:11:54.537131",
     "exception": false,
     "start_time": "2024-11-19T12:11:54.490107",
     "status": "completed"
    },
    "tags": []
   },
   "outputs": [
    {
     "data": {
      "text/html": [
       "<div>\n",
       "<style scoped>\n",
       "    .dataframe tbody tr th:only-of-type {\n",
       "        vertical-align: middle;\n",
       "    }\n",
       "\n",
       "    .dataframe tbody tr th {\n",
       "        vertical-align: top;\n",
       "    }\n",
       "\n",
       "    .dataframe thead th {\n",
       "        text-align: right;\n",
       "    }\n",
       "</style>\n",
       "<table border=\"1\" class=\"dataframe\">\n",
       "  <thead>\n",
       "    <tr style=\"text-align: right;\">\n",
       "      <th></th>\n",
       "      <th>PassengerId</th>\n",
       "      <th>Survived</th>\n",
       "      <th>Pclass</th>\n",
       "      <th>Name</th>\n",
       "      <th>Age</th>\n",
       "      <th>SibSp</th>\n",
       "      <th>Parch</th>\n",
       "      <th>Ticket</th>\n",
       "      <th>Fare</th>\n",
       "      <th>Cabin</th>\n",
       "      <th>Extracted_Title</th>\n",
       "      <th>Title</th>\n",
       "      <th>Sex_male</th>\n",
       "      <th>Embarked_Q</th>\n",
       "      <th>Embarked_S</th>\n",
       "      <th>FamilySize</th>\n",
       "    </tr>\n",
       "  </thead>\n",
       "  <tbody>\n",
       "    <tr>\n",
       "      <th>0</th>\n",
       "      <td>1</td>\n",
       "      <td>0</td>\n",
       "      <td>3</td>\n",
       "      <td>Braund, Mr. Owen Harris</td>\n",
       "      <td>22.0</td>\n",
       "      <td>1</td>\n",
       "      <td>0</td>\n",
       "      <td>A/5 21171</td>\n",
       "      <td>7.2500</td>\n",
       "      <td>NaN</td>\n",
       "      <td>Mr</td>\n",
       "      <td>0</td>\n",
       "      <td>True</td>\n",
       "      <td>False</td>\n",
       "      <td>True</td>\n",
       "      <td>2</td>\n",
       "    </tr>\n",
       "    <tr>\n",
       "      <th>1</th>\n",
       "      <td>2</td>\n",
       "      <td>1</td>\n",
       "      <td>1</td>\n",
       "      <td>Cumings, Mrs. John Bradley (Florence Briggs Th...</td>\n",
       "      <td>38.0</td>\n",
       "      <td>1</td>\n",
       "      <td>0</td>\n",
       "      <td>PC 17599</td>\n",
       "      <td>71.2833</td>\n",
       "      <td>C85</td>\n",
       "      <td>Mrs</td>\n",
       "      <td>1</td>\n",
       "      <td>False</td>\n",
       "      <td>False</td>\n",
       "      <td>False</td>\n",
       "      <td>2</td>\n",
       "    </tr>\n",
       "    <tr>\n",
       "      <th>2</th>\n",
       "      <td>3</td>\n",
       "      <td>1</td>\n",
       "      <td>3</td>\n",
       "      <td>Heikkinen, Miss. Laina</td>\n",
       "      <td>26.0</td>\n",
       "      <td>0</td>\n",
       "      <td>0</td>\n",
       "      <td>STON/O2. 3101282</td>\n",
       "      <td>7.9250</td>\n",
       "      <td>NaN</td>\n",
       "      <td>Miss</td>\n",
       "      <td>2</td>\n",
       "      <td>False</td>\n",
       "      <td>False</td>\n",
       "      <td>True</td>\n",
       "      <td>1</td>\n",
       "    </tr>\n",
       "    <tr>\n",
       "      <th>3</th>\n",
       "      <td>4</td>\n",
       "      <td>1</td>\n",
       "      <td>1</td>\n",
       "      <td>Futrelle, Mrs. Jacques Heath (Lily May Peel)</td>\n",
       "      <td>35.0</td>\n",
       "      <td>1</td>\n",
       "      <td>0</td>\n",
       "      <td>113803</td>\n",
       "      <td>53.1000</td>\n",
       "      <td>C123</td>\n",
       "      <td>Mrs</td>\n",
       "      <td>1</td>\n",
       "      <td>False</td>\n",
       "      <td>False</td>\n",
       "      <td>True</td>\n",
       "      <td>2</td>\n",
       "    </tr>\n",
       "    <tr>\n",
       "      <th>4</th>\n",
       "      <td>5</td>\n",
       "      <td>0</td>\n",
       "      <td>3</td>\n",
       "      <td>Allen, Mr. William Henry</td>\n",
       "      <td>35.0</td>\n",
       "      <td>0</td>\n",
       "      <td>0</td>\n",
       "      <td>373450</td>\n",
       "      <td>8.0500</td>\n",
       "      <td>NaN</td>\n",
       "      <td>Mr</td>\n",
       "      <td>0</td>\n",
       "      <td>True</td>\n",
       "      <td>False</td>\n",
       "      <td>True</td>\n",
       "      <td>1</td>\n",
       "    </tr>\n",
       "  </tbody>\n",
       "</table>\n",
       "</div>"
      ],
      "text/plain": [
       "   PassengerId  Survived  Pclass  \\\n",
       "0            1         0       3   \n",
       "1            2         1       1   \n",
       "2            3         1       3   \n",
       "3            4         1       1   \n",
       "4            5         0       3   \n",
       "\n",
       "                                                Name   Age  SibSp  Parch  \\\n",
       "0                            Braund, Mr. Owen Harris  22.0      1      0   \n",
       "1  Cumings, Mrs. John Bradley (Florence Briggs Th...  38.0      1      0   \n",
       "2                             Heikkinen, Miss. Laina  26.0      0      0   \n",
       "3       Futrelle, Mrs. Jacques Heath (Lily May Peel)  35.0      1      0   \n",
       "4                           Allen, Mr. William Henry  35.0      0      0   \n",
       "\n",
       "             Ticket     Fare Cabin Extracted_Title  Title  Sex_male  \\\n",
       "0         A/5 21171   7.2500   NaN              Mr      0      True   \n",
       "1          PC 17599  71.2833   C85             Mrs      1     False   \n",
       "2  STON/O2. 3101282   7.9250   NaN            Miss      2     False   \n",
       "3            113803  53.1000  C123             Mrs      1     False   \n",
       "4            373450   8.0500   NaN              Mr      0      True   \n",
       "\n",
       "   Embarked_Q  Embarked_S  FamilySize  \n",
       "0       False        True           2  \n",
       "1       False       False           2  \n",
       "2       False        True           1  \n",
       "3       False        True           2  \n",
       "4       False        True           1  "
      ]
     },
     "execution_count": 2,
     "metadata": {},
     "output_type": "execute_result"
    }
   ],
   "source": [
    "titles = {'Mr': 0, 'Mrs': 1, 'Miss': 2, 'Master': 3, 'Don': 4, 'Rev': 5, 'Dr': 6, 'Mme': 7, \n",
    "          'Ms': 8, 'Major': 9, 'Lady': 10, 'Sir': 11, 'Mlle': 12, 'Col': 13, 'Capt': 14, \n",
    "          'the Countess': 15, 'Jonkheer': 16}\n",
    "\n",
    "# Extract titles\n",
    "data[\"Extracted_Title\"] = data[\"Name\"].apply(lambda name: name.split(\",\")[1].split(\".\")[0].strip())\n",
    "data[\"Title\"] = data[\"Extracted_Title\"].map(titles)\n",
    "data[\"Title\"] = data[\"Title\"].fillna(-1)\n",
    "\n",
    "# Add Dummies\n",
    "data = data.dropna(subset=['Age'])\n",
    "\n",
    "data = pd.get_dummies(data, columns=['Sex', 'Embarked'], drop_first=True)\n",
    "data['FamilySize'] = data['SibSp'] + data['Parch'] + 1\n",
    "\n",
    "# Confirm Updates\n",
    "data.head()"
   ]
  },
  {
   "cell_type": "code",
   "execution_count": 3,
   "id": "d2a00e21",
   "metadata": {
    "execution": {
     "iopub.execute_input": "2024-11-19T12:11:54.542786Z",
     "iopub.status.busy": "2024-11-19T12:11:54.542149Z",
     "iopub.status.idle": "2024-11-19T12:11:54.548808Z",
     "shell.execute_reply": "2024-11-19T12:11:54.548030Z"
    },
    "papermill": {
     "duration": 0.011015,
     "end_time": "2024-11-19T12:11:54.550325",
     "exception": false,
     "start_time": "2024-11-19T12:11:54.539310",
     "status": "completed"
    },
    "tags": []
   },
   "outputs": [],
   "source": [
    "features = ['Pclass', 'SibSp', 'Parch', 'Fare', 'Sex_male', 'Embarked_Q', 'Embarked_S', \"Title\"]\n",
    "\n",
    "# Assign Data Axis\n",
    "X = data[features].values  \n",
    "y = data['Age'].values.reshape(-1, 1)  \n",
    "\n",
    "# Split Training Data (80% Training, 20% Validation)\n",
    "split_index = int(0.8 * len(X))\n",
    "X_train, X_val = X[:split_index], X[split_index:]\n",
    "y_train, y_val = y[:split_index], y[split_index:]\n",
    "\n",
    "# Parse data to correct NumPy types:\n",
    "X_train = np.array(X_train, dtype=np.float32)\n",
    "X_val = np.array(X_val, dtype=np.float32)\n",
    "y_train = np.array(y_train, dtype=np.float32)\n",
    "y_val = np.array(y_val, dtype=np.float32)"
   ]
  },
  {
   "cell_type": "code",
   "execution_count": 4,
   "id": "cf7d776c",
   "metadata": {
    "execution": {
     "iopub.execute_input": "2024-11-19T12:11:54.555436Z",
     "iopub.status.busy": "2024-11-19T12:11:54.555188Z",
     "iopub.status.idle": "2024-11-19T12:13:18.746470Z",
     "shell.execute_reply": "2024-11-19T12:13:18.745740Z"
    },
    "papermill": {
     "duration": 84.196123,
     "end_time": "2024-11-19T12:13:18.748516",
     "exception": false,
     "start_time": "2024-11-19T12:11:54.552393",
     "status": "completed"
    },
    "tags": []
   },
   "outputs": [
    {
     "name": "stdout",
     "output_type": "stream",
     "text": [
      "GPUs available: 2\n",
      "Memory growth set for GPUs\n"
     ]
    },
    {
     "name": "stderr",
     "output_type": "stream",
     "text": [
      "/opt/conda/lib/python3.10/site-packages/keras/src/layers/core/dense.py:87: UserWarning: Do not pass an `input_shape`/`input_dim` argument to a layer. When using Sequential models, prefer using an `Input(shape)` object as the first layer in the model instead.\n",
      "  super().__init__(activity_regularizer=activity_regularizer, **kwargs)\n",
      "WARNING: All log messages before absl::InitializeLog() is called are written to STDERR\n",
      "I0000 00:00:1732018317.646224      68 service.cc:145] XLA service 0x7c08e8013e60 initialized for platform CUDA (this does not guarantee that XLA will be used). Devices:\n",
      "I0000 00:00:1732018317.646277      68 service.cc:153]   StreamExecutor device (0): Tesla T4, Compute Capability 7.5\n",
      "I0000 00:00:1732018317.646281      68 service.cc:153]   StreamExecutor device (1): Tesla T4, Compute Capability 7.5\n",
      "I0000 00:00:1732018321.636403      68 device_compiler.h:188] Compiled cluster using XLA!  This line is logged at most once for the lifetime of the process.\n"
     ]
    }
   ],
   "source": [
    "import tensorflow as tf\n",
    "from tensorflow.keras.models import Sequential\n",
    "from tensorflow.keras.layers import Dense, Dropout, BatchNormalization\n",
    "\n",
    "print(\"GPUs available:\", len(tf.config.list_physical_devices('GPU')))\n",
    "\n",
    "gpus = tf.config.experimental.list_physical_devices('GPU')\n",
    "if gpus:\n",
    "    try:\n",
    "        for gpu in gpus:\n",
    "            tf.config.experimental.set_memory_growth(gpu, True)\n",
    "        print(\"Memory growth set for GPUs\")\n",
    "    except RuntimeError as e:\n",
    "        print(e)\n",
    "\n",
    "\n",
    "# Define the model\n",
    "model = Sequential([\n",
    "    Dense(1024, activation='relu', input_shape=(len(features),)),\n",
    "    BatchNormalization(),\n",
    "    Dropout(0.3),\n",
    "    Dense(256, activation='relu'),\n",
    "    BatchNormalization(),\n",
    "    Dense(256, activation='relu', input_shape=(len(features),)),\n",
    "    Dropout(0.3),\n",
    "    Dense(256, activation='relu'),\n",
    "    BatchNormalization(),\n",
    "    Dense(256, activation='relu', input_shape=(len(features),)),\n",
    "    Dense(1)  \n",
    "])\n",
    "\n",
    "# Compile the model\n",
    "model.compile(optimizer='adam', loss='mean_squared_error', metrics=['mae', 'accuracy'])\n",
    "\n",
    "# Train the model\n",
    "history = model.fit(X_train, y_train, epochs=1500, batch_size=128, validation_data=(X_val, y_val), verbose=False)\n"
   ]
  },
  {
   "cell_type": "code",
   "execution_count": 5,
   "id": "b969db1a",
   "metadata": {
    "execution": {
     "iopub.execute_input": "2024-11-19T12:13:18.754944Z",
     "iopub.status.busy": "2024-11-19T12:13:18.754701Z",
     "iopub.status.idle": "2024-11-19T12:13:18.768905Z",
     "shell.execute_reply": "2024-11-19T12:13:18.768291Z"
    },
    "papermill": {
     "duration": 0.019146,
     "end_time": "2024-11-19T12:13:18.770524",
     "exception": false,
     "start_time": "2024-11-19T12:13:18.751378",
     "status": "completed"
    },
    "tags": []
   },
   "outputs": [],
   "source": [
    "# Save PassengerId for the final output AFTER all modifications to test_data\n",
    "test_data = test_data.dropna(subset=['Age'])  # Drop rows with missing Age\n",
    "passenger_ids = test_data['PassengerId']  # Update PassengerId to match filtered data\n",
    "\n",
    "test_data[\"Extracted_Title\"] = test_data[\"Name\"].apply(lambda name: name.split(\",\")[1].split(\".\")[0].strip())\n",
    "test_data[\"Title\"] = test_data[\"Extracted_Title\"].map(titles)\n",
    "test_data[\"Title\"] = test_data[\"Title\"].fillna(-1)\n",
    "\n",
    "# Add FamilySize\n",
    "test_data['FamilySize'] = test_data['SibSp'] + test_data['Parch'] + 1\n",
    "test_data = pd.get_dummies(test_data, columns=['Sex', 'Embarked'], drop_first=True)\n",
    "\n",
    "# Ensure all selected features are available in test_data\n",
    "X_test = test_data[features].values\n",
    "X_test = X_test.astype('float32')"
   ]
  },
  {
   "cell_type": "code",
   "execution_count": 6,
   "id": "95735e3f",
   "metadata": {
    "execution": {
     "iopub.execute_input": "2024-11-19T12:13:18.776776Z",
     "iopub.status.busy": "2024-11-19T12:13:18.776239Z",
     "iopub.status.idle": "2024-11-19T12:13:19.848908Z",
     "shell.execute_reply": "2024-11-19T12:13:19.848067Z"
    },
    "papermill": {
     "duration": 1.077629,
     "end_time": "2024-11-19T12:13:19.850713",
     "exception": false,
     "start_time": "2024-11-19T12:13:18.773084",
     "status": "completed"
    },
    "tags": []
   },
   "outputs": [
    {
     "name": "stdout",
     "output_type": "stream",
     "text": [
      "\u001b[1m11/11\u001b[0m \u001b[32m━━━━━━━━━━━━━━━━━━━━\u001b[0m\u001b[37m\u001b[0m \u001b[1m1s\u001b[0m 34ms/step\n"
     ]
    },
    {
     "data": {
      "text/html": [
       "<div>\n",
       "<style scoped>\n",
       "    .dataframe tbody tr th:only-of-type {\n",
       "        vertical-align: middle;\n",
       "    }\n",
       "\n",
       "    .dataframe tbody tr th {\n",
       "        vertical-align: top;\n",
       "    }\n",
       "\n",
       "    .dataframe thead th {\n",
       "        text-align: right;\n",
       "    }\n",
       "</style>\n",
       "<table border=\"1\" class=\"dataframe\">\n",
       "  <thead>\n",
       "    <tr style=\"text-align: right;\">\n",
       "      <th></th>\n",
       "      <th>PassengerId</th>\n",
       "      <th>Age</th>\n",
       "    </tr>\n",
       "  </thead>\n",
       "  <tbody>\n",
       "    <tr>\n",
       "      <th>0</th>\n",
       "      <td>892</td>\n",
       "      <td>42.5</td>\n",
       "    </tr>\n",
       "    <tr>\n",
       "      <th>1</th>\n",
       "      <td>893</td>\n",
       "      <td>38.5</td>\n",
       "    </tr>\n",
       "    <tr>\n",
       "      <th>2</th>\n",
       "      <td>894</td>\n",
       "      <td>37.5</td>\n",
       "    </tr>\n",
       "    <tr>\n",
       "      <th>3</th>\n",
       "      <td>895</td>\n",
       "      <td>28.0</td>\n",
       "    </tr>\n",
       "    <tr>\n",
       "      <th>4</th>\n",
       "      <td>896</td>\n",
       "      <td>28.0</td>\n",
       "    </tr>\n",
       "  </tbody>\n",
       "</table>\n",
       "</div>"
      ],
      "text/plain": [
       "   PassengerId   Age\n",
       "0          892  42.5\n",
       "1          893  38.5\n",
       "2          894  37.5\n",
       "3          895  28.0\n",
       "4          896  28.0"
      ]
     },
     "execution_count": 6,
     "metadata": {},
     "output_type": "execute_result"
    }
   ],
   "source": [
    "\n",
    "# Make predictions\n",
    "predictions = model.predict(X_test)\n",
    "rounded_predictions = tf.round(predictions * 2) / 2\n",
    "\n",
    "# Create output DataFrame for predictions with PassengerId and predicted Age\n",
    "output_df = pd.DataFrame({\n",
    "    \"PassengerId\": passenger_ids,\n",
    "    \"Age\": predictions.flatten()  # Flatten to ensure the correct shape\n",
    "})\n",
    "\n",
    "# Save predictions to CSV\n",
    "output_df.to_csv(\"submission.csv\", index=False)\n",
    "model.save('prediction_model.keras')\n",
    "\n",
    "output_df['Age'] = output_df['Age'].fillna(0).apply(lambda x: round(x * 2) / 2)\n",
    "output_df.head()\n",
    "\n"
   ]
  },
  {
   "cell_type": "code",
   "execution_count": 7,
   "id": "50f3a100",
   "metadata": {
    "execution": {
     "iopub.execute_input": "2024-11-19T12:13:19.857460Z",
     "iopub.status.busy": "2024-11-19T12:13:19.857183Z",
     "iopub.status.idle": "2024-11-19T12:13:20.213951Z",
     "shell.execute_reply": "2024-11-19T12:13:20.213092Z"
    },
    "papermill": {
     "duration": 0.361947,
     "end_time": "2024-11-19T12:13:20.215546",
     "exception": false,
     "start_time": "2024-11-19T12:13:19.853599",
     "status": "completed"
    },
    "tags": []
   },
   "outputs": [
    {
     "data": {
      "image/png": "[encoded data removed]",
      "text/plain": [
       "<Figure size 640x480 with 2 Axes>"
      ]
     },
     "metadata": {},
     "output_type": "display_data"
    }
   ],
   "source": [
    "fig, ax1 = plt.subplots()\n",
    "\n",
    "# Plot Loss on the primary y-axis\n",
    "ax1.plot(history.history['loss'], label='Training Loss', color='tab:blue')\n",
    "ax1.plot(history.history['val_loss'], label='Validation Loss', color='tab:blue', linestyle=\"--\")\n",
    "ax1.set_xlabel('Epochs')\n",
    "ax1.set_ylabel('Loss / MAE', color='tab:blue')\n",
    "ax1.tick_params(axis='y', labelcolor='tab:blue')\n",
    "\n",
    "# Plot MAE on the primary y-axis\n",
    "ax1.plot(history.history['mae'], label='Training MAE', color='tab:orange')\n",
    "ax1.plot(history.history['val_mae'], label='Validation MAE', color='tab:orange', linestyle=\"--\")\n",
    "\n",
    "# Create a secondary y-axis for Accuracy\n",
    "ax2 = ax1.twinx()\n",
    "ax2.plot(history.history['accuracy'], label='Training Accuracy', color='tab:green')\n",
    "ax2.plot(history.history['val_accuracy'], label='Validation Accuracy', color='tab:green', linestyle=\"--\")\n",
    "ax2.set_ylabel('Accuracy', color='tab:green')\n",
    "ax2.tick_params(axis='y', labelcolor='tab:green')\n",
    "\n",
    "# Add legends for clarity\n",
    "fig.legend(loc=\"upper center\", bbox_to_anchor=(0.5, 1.15), ncol=4)\n",
    "plt.title(\"Model Loss, MAE, and Accuracy\")\n",
    "plt.show()"
   ]
  }
 ],
 "metadata": {
  "kaggle": {
   "accelerator": "nvidiaTeslaT4",
   "dataSources": [
    {
     "databundleVersionId": 26502,
     "sourceId": 3136,
     "sourceType": "competition"
    }
   ],
   "dockerImageVersionId": 30786,
   "isGpuEnabled": true,
   "isInternetEnabled": true,
   "language": "python",
   "sourceType": "notebook"
  },
  "kernelspec": {
   "display_name": "Python 3",
   "language": "python",
   "name": "python3"
  },
  "language_info": {
   "codemirror_mode": {
    "name": "ipython",
    "version": 3
   },
   "file_extension": ".py",
   "mimetype": "text/x-python",
   "name": "python",
   "nbconvert_exporter": "python",
   "pygments_lexer": "ipython3",
   "version": "3.10.14"
  },
  "papermill": {
   "default_parameters": {},
   "duration": 104.722382,
   "end_time": "2024-11-19T12:13:22.608072",
   "environment_variables": {},
   "exception": null,
   "input_path": "__notebook__.ipynb",
   "output_path": "__notebook__.ipynb",
   "parameters": {},
   "start_time": "2024-11-19T12:11:37.885690",
   "version": "2.6.0"
  }
 },
 "nbformat": 4,
 "nbformat_minor": 5
}
